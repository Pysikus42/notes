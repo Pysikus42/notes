{
 "cells": [
  {
   "cell_type": "markdown",
   "metadata": {},
   "source": [
    "Robin Heinemann"
   ]
  },
  {
   "cell_type": "code",
   "execution_count": 65,
   "metadata": {
    "collapsed": false
   },
   "outputs": [],
   "source": [
    "from math import sqrt\n",
    "from numpy import finfo\n",
    "\n",
    "def find_ns(a, b, c):\n",
    "    # check for a == 0 to avoid division by zero\n",
    "    if a == 0:\n",
    "        if b == 0:\n",
    "            if c == 0:\n",
    "                return([-1.0, 0.0, 1.0])\n",
    "            else:\n",
    "                return([])\n",
    "        # degenerates to a line\n",
    "        else:\n",
    "            return([-c / b])\n",
    "    # less calculation needed if b == 0\n",
    "    elif b == 0:\n",
    "        if c == 0:\n",
    "            return([0])\n",
    "        q = c / a \n",
    "        if q < 0:\n",
    "            ns = sqrt(-q)\n",
    "            return([-ns, ns])\n",
    "        else:\n",
    "            return([])\n",
    "    else:\n",
    "        q = c / a\n",
    "        p = -b / a\n",
    "        u = (p * p / 4) - q\n",
    "        # has only complex solutions\n",
    "        if u < 0:\n",
    "            return([])\n",
    "        w = sqrt(u)\n",
    "        if p < 0:\n",
    "            ns1 = p / 2 - w\n",
    "        else:\n",
    "            ns1 = p / 2 + w\n",
    "            \n",
    "        ns2 = q / ns1\n",
    "        return([ns1, ns2])\n",
    "\n",
    "def polyval(a, b, c, x):\n",
    "    return(c + x * (b + x * a))\n",
    "\n",
    "def polyval_dx(a, b, c, x):\n",
    "    return(2 * a * x + b)\n",
    "    \n",
    "def valid_ns(a, b, c, ns):\n",
    "    if len(ns) == 3:\n",
    "        return(a == 0 and b == 0 and c == 0)\n",
    "    elif len(ns) == 2:\n",
    "        return(abs(polyval(a, b, c, ns[0])) <= finfo(float).eps * \n",
    "               abs(polyval_dx(a, b, c, ns[0]) * ns[0]) and\n",
    "               abs(polyval(a, b, c, ns[1])) <= finfo(float).eps * \n",
    "               abs(polyval_dx(a, b, c, ns[1]) * ns[1]))\n",
    "    elif len(ns) == 1:\n",
    "        return(abs(polyval(a, b, c, ns[0])) <= finfo(float).eps)\n",
    "    else:\n",
    "        return(True)"
   ]
  },
  {
   "cell_type": "code",
   "execution_count": 66,
   "metadata": {
    "collapsed": false
   },
   "outputs": [
    {
     "name": "stdout",
     "output_type": "stream",
     "text": [
      "True: [0, 0, 0] [-1.0, 0.0, 1.0]\n",
      "True: [0, 0, 1] []\n",
      "True: [0, 1, 0] [0.0]\n",
      "True: [0, 2, 1] [-0.5]\n",
      "True: [2, 0, 0] [0]\n",
      "True: [2, 0, 1] []\n",
      "True: [2, 0, -4] [-1.4142135623730951, 1.4142135623730951]\n",
      "True: [4, 2, 0] [-0.5, -0.0]\n",
      "True: [1, 2, -3] [-3.0, 1.0]\n",
      "True: [1, 2, 1] [-1.0, -1.0]\n",
      "True: [1, 2, 2] []\n",
      "True: [-1, 0, 0] [0]\n",
      "True: [-1, 0, -1] []\n",
      "True: [-4, 0, 2] [-0.7071067811865476, 0.7071067811865476]\n",
      "True: [-1, 2, 0] [2.0, -0.0]\n",
      "True: [-4, 8, 12] [3.0, -1.0]\n",
      "True: [-1, 2, -1] [1.0, 1.0]\n",
      "True: [-1, 2, -5] []\n",
      "False: [2500000000.0, -100000.0, 1] [2.0000000227373677e-05, 1.9999999772626326e-05]\n"
     ]
    }
   ],
   "source": [
    "a = [0, 0, 0, 0, 2, 2,  2, 4,  1, 1, 1, -1, -1, -4, -1, -4, -1, -1, 2.5e9]\n",
    "b = [0, 0, 1, 2, 0, 0,  0, 2,  2, 2, 2,  0,  0,  0,  2,  8,  2,  2,  -1e5]\n",
    "c = [0, 1, 0, 1, 0, 1, -4, 0, -3, 1, 2,  0, -1 , 2,  0, 12, -1, -5,     1]\n",
    "\n",
    "for a, b, c in zip(a, b, c):\n",
    "    ns = find_ns(a, b, c)\n",
    "    print(\"%s: %s %s\" % (valid_ns(a, b, c, ns), [a, b, c], ns))\n"
   ]
  }
 ],
 "metadata": {
  "kernelspec": {
   "display_name": "Python 3",
   "language": "python",
   "name": "python3"
  },
  "language_info": {
   "codemirror_mode": {
    "name": "ipython",
    "version": 3
   },
   "file_extension": ".py",
   "mimetype": "text/x-python",
   "name": "python",
   "nbconvert_exporter": "python",
   "pygments_lexer": "ipython3",
   "version": "3.5.3"
  }
 },
 "nbformat": 4,
 "nbformat_minor": 2
}
