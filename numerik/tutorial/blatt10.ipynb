{
 "cells": [
  {
   "cell_type": "code",
   "execution_count": null,
   "metadata": {},
   "outputs": [],
   "source": [
    "%%javascript\n",
    "IPython.OutputArea.prototype._should_scroll = function(lines) {\n",
    "    return false;\n",
    "}"
   ]
  },
  {
   "cell_type": "code",
   "execution_count": null,
   "metadata": {
    "collapsed": true
   },
   "outputs": [],
   "source": [
    "from math import log10, ceil, sqrt\n",
    "import numpy as np\n",
    "import scipy.linalg as la\n",
    "import scipy.sparse as sps\n",
    "import matplotlib.pyplot as plt\n",
    "%matplotlib inline\n",
    "# try to load a local style sheet for matplotlib\n",
    "# see http://matplotlib.org/users/style_sheets.html\n",
    "try:\n",
    "    plt.style.use('presentation')\n",
    "except:\n",
    "    pass # do nothing if it cannot be found"
   ]
  },
  {
   "cell_type": "code",
   "execution_count": null,
   "metadata": {},
   "outputs": [],
   "source": [
    "def numgrid(n, verbose=False):\n",
    "    x = np.ones((n,1))*np.linspace(-1,1,n)\n",
    "    y = np.flipud(x.T)\n",
    "    G = (x > -1) & (x < 1) & (y > -1) & (y < 1) & ((x < 0) | (y < 0))\n",
    "    if verbose:\n",
    "        print('\\nBoundary values (0) and degrees of freedom (.) on domain:')\n",
    "        print(np.where(G, '.', '0'))\n",
    "    G = np.where(G,1,0) # boolean to integer\n",
    "    k = np.where(G)\n",
    "    G[k] = np.arange(1, len(k[0])+1)\n",
    "    if verbose:\n",
    "        print('\\nDegree of freedom numbering:')\n",
    "        print(G)\n",
    "    return G\n",
    "\n",
    "def delsq(G, verbose=False):\n",
    "    [m,n] = G.shape\n",
    "    # Indices of interior points\n",
    "    G1 = G.flatten()\n",
    "    p = np.where(G1)[0]\n",
    "    if verbose:\n",
    "        print('\\nIndices of degrees of freedom on square grid:')\n",
    "        print(p)\n",
    "    N = len(p)\n",
    "    # Connect interior points to themselves with 4's.\n",
    "    i = G1[p]-1\n",
    "    j = G1[p]-1\n",
    "    s = 4*np.ones(p.shape)\n",
    "\n",
    "    if verbose:\n",
    "        print('\\nConnected degrees of freedom:')\n",
    "    # for k = north, east, south, west\n",
    "    for k in [-1, m, 1, -m]:\n",
    "        # Possible neighbors in k-th direction\n",
    "        Q = G1[p+k]\n",
    "        # Index of points with interior neighbors\n",
    "        q = np.where(Q)[0]\n",
    "        if verbose:\n",
    "            print(np.vstack((Q[q], G1[p[q]])))\n",
    "        # Connect interior points to neighbors with -1's.\n",
    "        i = np.concatenate([i, G1[p[q]]-1])\n",
    "        j = np.concatenate([j,Q[q]-1])\n",
    "        s = np.concatenate([s,-np.ones(q.shape)])\n",
    "    # sparse matrix with 5 diagonals\n",
    "    return sps.csc_matrix((s, (i,j)),(N,N))\n",
    "\n",
    "G = numgrid(31)\n",
    "A = delsq(G)\n",
    "plt.figure(figsize=(8,8), dpi=150)\n",
    "plt.imshow(abs(A.todense()))\n",
    "plt.show()"
   ]
  },
  {
   "cell_type": "code",
   "execution_count": null,
   "metadata": {},
   "outputs": [],
   "source": [
    "w, v = la.eig(A.todense())\n",
    "w = w[w.real == w].real\n",
    "plt.plot(sorted(w))"
   ]
  },
  {
   "cell_type": "code",
   "execution_count": null,
   "metadata": {},
   "outputs": [],
   "source": [
    "print(\"cond2(A) = %f\" % (max(w) / min(w)))"
   ]
  },
  {
   "cell_type": "code",
   "execution_count": null,
   "metadata": {
    "collapsed": true
   },
   "outputs": [],
   "source": [
    "def split_DLR(A):\n",
    "    D = np.diag(np.diag(A))\n",
    "    L = sps.tril(A, k=-1, format='csc')\n",
    "    R = sps.triu(A, k=1, format='csc')\n",
    "    return((D, L, R))"
   ]
  },
  {
   "cell_type": "code",
   "execution_count": null,
   "metadata": {
    "collapsed": true
   },
   "outputs": [],
   "source": [
    "def jacobi(A):\n",
    "    D, L, R = split_DLR(A)\n",
    "    J = -la.inv(D) * (L + R)\n",
    "    return J"
   ]
  },
  {
   "cell_type": "code",
   "execution_count": null,
   "metadata": {
    "collapsed": true
   },
   "outputs": [],
   "source": [
    "def SOR(A, ω):\n",
    "    D, L, R = split_DLR(A)\n",
    "    Hω = la.inv(D + ω * L) * ((1 - ω) * D - ω * R)\n",
    "    return(Hω)"
   ]
  },
  {
   "cell_type": "code",
   "execution_count": null,
   "metadata": {
    "collapsed": true
   },
   "outputs": [],
   "source": [
    "def gauß_seidel(A):\n",
    "    return(SOR(A, 1))"
   ]
  },
  {
   "cell_type": "code",
   "execution_count": null,
   "metadata": {
    "collapsed": true
   },
   "outputs": [],
   "source": [
    "J = jacobi(A.todense())\n",
    "H1 = gauß_seidel(A.todense())\n",
    "ω = 2 / (1 + sqrt(1 - 0.990553216332 * 0.990553216332))\n",
    "Hω = SOR(A.todense(), ω)"
   ]
  },
  {
   "cell_type": "code",
   "execution_count": null,
   "metadata": {
    "collapsed": true
   },
   "outputs": [],
   "source": [
    "def plt_eig(A, s, l):\n",
    "    w, v = la.eig(A)\n",
    "    plt.figure(figsize=(8,8), dpi=250)\n",
    "    plt.plot(w.real, w.imag, s, label=l, markersize=1)\n",
    "    plt.xlim([-2, 2])\n",
    "    plt.ylim([-2, 2])\n",
    "    plt.legend()\n",
    "    plt.show()"
   ]
  },
  {
   "cell_type": "code",
   "execution_count": null,
   "metadata": {
    "scrolled": true
   },
   "outputs": [],
   "source": [
    "plt_eig(J, 'o', 'jacobi')"
   ]
  },
  {
   "cell_type": "code",
   "execution_count": null,
   "metadata": {},
   "outputs": [],
   "source": [
    "plt_eig(H1, 'bo', 'gauß_seidel')"
   ]
  },
  {
   "cell_type": "code",
   "execution_count": null,
   "metadata": {},
   "outputs": [],
   "source": [
    "plt_eig(Hω, 'go', 'SOR')"
   ]
  },
  {
   "cell_type": "code",
   "execution_count": null,
   "metadata": {
    "collapsed": true
   },
   "outputs": [],
   "source": [
    "from matplotlib import animation\n",
    "from IPython.display import HTML"
   ]
  },
  {
   "cell_type": "code",
   "execution_count": null,
   "metadata": {},
   "outputs": [],
   "source": [
    "#fig = plt.figure(figsize=(8,8), dpi=150)\n",
    "fig, ax = plt.subplots(figsize=(8,8), dpi=250)\n",
    "def update(i):\n",
    "    Hω = SOR(A.todense(), i)\n",
    "    w, v = la.eig(Hω)\n",
    "    ax.clear()\n",
    "    ax.plot(w.real, w.imag, 'bo', label='ω = %f' % (i) , markersize=1)\n",
    "    i = np.argmax(abs(w))\n",
    "    ax.plot(w[i].real, w[i].imag, 'ro', label='$spr(H_ω) = %f$' % (abs(w[i])), markersize = 1.5)\n",
    "    ax.set_xlim([-2, 2])\n",
    "    ax.set_ylim([-2, 2])\n",
    "    ax.legend()\n",
    "\n",
    "a = animation.FuncAnimation(fig, update, frames=np.linspace(0, 2, num=10))"
   ]
  },
  {
   "cell_type": "code",
   "execution_count": null,
   "metadata": {},
   "outputs": [],
   "source": [
    "%timeit a.save(\"text10.mp4\")"
   ]
  },
  {
   "cell_type": "code",
   "execution_count": null,
   "metadata": {
    "collapsed": true
   },
   "outputs": [],
   "source": []
  }
 ],
 "metadata": {
  "kernelspec": {
   "display_name": "Python 3",
   "language": "python",
   "name": "python3"
  },
  "language_info": {
   "codemirror_mode": {
    "name": "ipython",
    "version": 3
   },
   "file_extension": ".py",
   "mimetype": "text/x-python",
   "name": "python",
   "nbconvert_exporter": "python",
   "pygments_lexer": "ipython3",
   "version": "3.6.1"
  }
 },
 "nbformat": 4,
 "nbformat_minor": 2
}
