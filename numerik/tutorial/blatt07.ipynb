{
 "cells": [
  {
   "cell_type": "code",
   "execution_count": 3,
   "metadata": {
    "collapsed": true
   },
   "outputs": [],
   "source": [
    "import numpy as np\n",
    "import matplotlib.pyplot as plt\n",
    "%matplotlib inline"
   ]
  },
  {
   "cell_type": "code",
   "execution_count": 5,
   "metadata": {},
   "outputs": [],
   "source": [
    "def lu_decomp(A):\n",
    "    (n, m) = np.shape(A)\n",
    "    assert(n == m)\n",
    "    p = list(range(n))\n",
    "    \n",
    "    for k in range(n - 1):\n",
    "        i = np.argmax(np.abs(A[k:,k])) + k\n",
    "        p[k], p[i] = p[i], p[k]\n",
    "        A[[k,i],:] = A[[i,k],:]\n",
    "        for j in range(k + 1, n):\n",
    "            l = (A[j, k] / A[k, k])\n",
    "            A[j, k] = l\n",
    "            A[j, k + 1:] = A[j, k + 1:] - A[k, k + 1:] * l\n",
    "    return p\n"
   ]
  },
  {
   "cell_type": "code",
   "execution_count": 6,
   "metadata": {},
   "outputs": [],
   "source": [
    "def lu_solve(p, A, b):\n",
    "    (n, m) = np.shape(A)\n",
    "    assert(n == m)\n",
    "    b = b[p]\n",
    "    y = np.zeros(np.shape(b))\n",
    "    for i in range(n):\n",
    "        y[i,:] = b[i,:]\n",
    "        for j in range(i):\n",
    "            y[i,:] = y[i,:] - A[i, j] * y[j,:]\n",
    "        y[i,:] = y[i,:]\n",
    "        \n",
    "    x = np.zeros(np.shape(b))\n",
    "    for i in range(n - 1, -1, -1):\n",
    "        x[i,:] = y[i,:]\n",
    "        for j in range(n - 1, i, -1):\n",
    "            x[i,:] = x[i,:] - A[i, j] * x[j,:]\n",
    "        x[i,:] = x[i,:] * (1. / A[i,i])\n",
    "        \n",
    "    return x"
   ]
  },
  {
   "cell_type": "code",
   "execution_count": 7,
   "metadata": {},
   "outputs": [
    {
     "data": {
      "text/plain": [
       "array([[ 19.],\n",
       "       [ -7.],\n",
       "       [ -8.]])"
      ]
     },
     "execution_count": 7,
     "metadata": {},
     "output_type": "execute_result"
    }
   ],
   "source": [
    "A = np.array([[3., 1., 6.], [2., 1., 3.], [1., 1., 1.]])\n",
    "p = lu_decomp(A)\n",
    "b = np.array([[2.], [7.], [4.]])\n",
    "lu_solve(p, A, b)"
   ]
  },
  {
   "cell_type": "code",
   "execution_count": 8,
   "metadata": {},
   "outputs": [
    {
     "data": {
      "text/plain": [
       "array([[-2.,  5., -3.],\n",
       "       [ 1., -3.,  3.],\n",
       "       [ 1., -2.,  1.]])"
      ]
     },
     "execution_count": 8,
     "metadata": {},
     "output_type": "execute_result"
    }
   ],
   "source": [
    "A = np.array([[3., 1., 6.], [2., 1., 3.], [1., 1., 1.]])\n",
    "p = lu_decomp(A)\n",
    "b = np.array([[1., 0., 0.], [0., 1., 0.], [0., 0., 1.]])\n",
    "lu_solve(p, A, b)"
   ]
  },
  {
   "cell_type": "code",
   "execution_count": 11,
   "metadata": {},
   "outputs": [
    {
     "data": {
      "text/plain": [
       "2.1041907406921267e-11"
      ]
     },
     "execution_count": 11,
     "metadata": {},
     "output_type": "execute_result"
    }
   ],
   "source": [
    "n = 500\n",
    "A = np.random.rand(n, n)\n",
    "Ao = A.copy()\n",
    "p = lu_decomp(A)\n",
    "b = np.identity(n)\n",
    "X = lu_solve(p, A, b)\n",
    "np.linalg.norm(Ao.dot(X) - b, np.inf)"
   ]
  },
  {
   "cell_type": "code",
   "execution_count": 12,
   "metadata": {
    "collapsed": true
   },
   "outputs": [],
   "source": [
    "def cond_inf(A):\n",
    "    Ao = A.copy()\n",
    "    p = lu_decomp(A)\n",
    "    b = np.identity(A.shape[0])\n",
    "    X = lu_solve(p, A, b)\n",
    "    return np.linalg.norm(Ao, np.inf) * np.linalg.norm(X, np.inf)"
   ]
  },
  {
   "cell_type": "code",
   "execution_count": 13,
   "metadata": {},
   "outputs": [
    {
     "data": {
      "text/plain": [
       "3.0"
      ]
     },
     "execution_count": 13,
     "metadata": {},
     "output_type": "execute_result"
    }
   ],
   "source": [
    "cond_inf(np.array([[0.5, 0.5], [0.5, -1.]]))"
   ]
  },
  {
   "cell_type": "code",
   "execution_count": 17,
   "metadata": {},
   "outputs": [
    {
     "name": "stderr",
     "output_type": "stream",
     "text": [
      "/usr/lib64/python3.6/site-packages/ipykernel/__main__.py:17: RuntimeWarning: divide by zero encountered in double_scalars\n",
      "/usr/lib64/python3.6/site-packages/ipykernel/__main__.py:17: RuntimeWarning: invalid value encountered in multiply\n",
      "/usr/lib64/python3.6/site-packages/ipykernel/__main__.py:16: RuntimeWarning: invalid value encountered in subtract\n",
      "/usr/lib64/python3.6/site-packages/ipykernel/__main__.py:11: RuntimeWarning: invalid value encountered in double_scalars\n",
      "/usr/lib64/python3.6/site-packages/ipykernel/__main__.py:7: RuntimeWarning: invalid value encountered in absolute\n",
      "/usr/lib64/python3.6/site-packages/matplotlib/axes/_base.py:3193: UserWarning: Attempting to set identical bottom==top results\n",
      "in singular transformations; automatically expanding.\n",
      "bottom=1.0, top=1.0\n",
      "  'bottom=%s, top=%s') % (bottom, top))\n"
     ]
    },
    {
     "data": {
      "text/plain": [
       "[<matplotlib.lines.Line2D at 0x7f1d55ce3e80>]"
      ]
     },
     "execution_count": 17,
     "metadata": {},
     "output_type": "execute_result"
    },
    {
     "data": {
      "image/png": "[encoded data removed]",
      "text/plain": [
       "<matplotlib.figure.Figure at 0x7f1d55cf0a58>"
      ]
     },
     "metadata": {},
     "output_type": "display_data"
    }
   ],
   "source": [
    "def vandermonde(f, n, a, b):\n",
    "    x = np.cos(np.linspace(a, b, n))\n",
    "    v = np.zeros((n, n))\n",
    "    for i in range(n):\n",
    "        for j in range(n):\n",
    "            v[i, j] = f(j, x[i])\n",
    "             \n",
    "    return v\n",
    "\n",
    "n = np.arange(1, 53, 2)\n",
    "monom = lambda i, x: x**i\n",
    "tscheby = lambda i, x: np.cos(i * np.arccos(x))\n",
    "plt.semilogy(n - 1, list(map(lambda n: cond_inf(vandermonde(monom, n, -1, 1)), n)))\n",
    "plt.semilogy(n - 1, list(map(lambda n: cond_inf(vandermonde(tscheby, n, 0, np.pi)), n)))"
   ]
  },
  {
   "cell_type": "code",
   "execution_count": null,
   "metadata": {
    "collapsed": true
   },
   "outputs": [],
   "source": []
  }
 ],
 "metadata": {
  "kernelspec": {
   "display_name": "Python 3",
   "language": "python",
   "name": "python3"
  },
  "language_info": {
   "codemirror_mode": {
    "name": "ipython",
    "version": 3
   },
   "file_extension": ".py",
   "mimetype": "text/x-python",
   "name": "python",
   "nbconvert_exporter": "python",
   "pygments_lexer": "ipython3",
   "version": "3.6.5"
  }
 },
 "nbformat": 4,
 "nbformat_minor": 2
}
