{
 "cells": [
  {
   "cell_type": "code",
   "execution_count": 1,
   "metadata": {
    "collapsed": true
   },
   "outputs": [],
   "source": [
    "import numpy as np\n",
    "import matplotlib.pyplot as plt\n",
    "%matplotlib inline"
   ]
  },
  {
   "cell_type": "code",
   "execution_count": 67,
   "metadata": {
    "collapsed": false
   },
   "outputs": [],
   "source": [
    "def lu_decomp(A):\n",
    "    (n, m) = np.shape(A)\n",
    "    assert(n == m)\n",
    "    p = list(range(n))\n",
    "    \n",
    "    for k in range(n - 1):\n",
    "        i = np.argmax(np.abs(A[k:,k])) + k\n",
    "        p[k], p[i] = p[i], p[k]\n",
    "        A[[k,i],:] = A[[i,k],:]\n",
    "        for j in range(k + 1, n):\n",
    "            l = (A[j, k] / A[k, k])\n",
    "            A[j, k] = l\n",
    "            A[j, k + 1:] = A[j, k + 1:] - A[k, k + 1:] * l\n",
    "    return p\n"
   ]
  },
  {
   "cell_type": "code",
   "execution_count": 153,
   "metadata": {
    "collapsed": false
   },
   "outputs": [],
   "source": [
    "def lu_solve(p, A, b):\n",
    "    (n, m) = np.shape(A)\n",
    "    assert(n == m)\n",
    "    b = b[p]\n",
    "    y = np.zeros(np.shape(b))\n",
    "    for i in range(n):\n",
    "        y[i,:] = b[i,:]\n",
    "        for j in range(i):\n",
    "            y[i,:] = y[i,:] - A[i, j] * y[j,:]\n",
    "        y[i,:] = y[i,:]\n",
    "        \n",
    "    x = np.zeros(np.shape(b))\n",
    "    for i in range(n - 1, -1, -1):\n",
    "        x[i,:] = y[i,:]\n",
    "        for j in range(n - 1, i, -1):\n",
    "            x[i,:] = x[i,:] - A[i, j] * x[j,:]\n",
    "        x[i,:] = x[i,:] * (1. / A[i,i])\n",
    "        \n",
    "    return x"
   ]
  },
  {
   "cell_type": "code",
   "execution_count": 154,
   "metadata": {
    "collapsed": false
   },
   "outputs": [
    {
     "data": {
      "text/plain": [
       "array([[ 19.],\n",
       "       [ -7.],\n",
       "       [ -8.]])"
      ]
     },
     "execution_count": 154,
     "metadata": {},
     "output_type": "execute_result"
    }
   ],
   "source": [
    "A = np.array([[3., 1., 6.], [2., 1., 3.], [1., 1., 1.]])\n",
    "p = lu_decomp(A)\n",
    "b = np.array([[2.], [7.], [4.]])\n",
    "lu_solve(p, A, b)"
   ]
  },
  {
   "cell_type": "code",
   "execution_count": 155,
   "metadata": {
    "collapsed": false
   },
   "outputs": [
    {
     "data": {
      "text/plain": [
       "array([[-2.,  5., -3.],\n",
       "       [ 1., -3.,  3.],\n",
       "       [ 1., -2.,  1.]])"
      ]
     },
     "execution_count": 155,
     "metadata": {},
     "output_type": "execute_result"
    }
   ],
   "source": [
    "A = np.array([[3., 1., 6.], [2., 1., 3.], [1., 1., 1.]])\n",
    "p = lu_decomp(A)\n",
    "b = np.array([[1., 0., 0.], [0., 1., 0.], [0., 0., 1.]])\n",
    "lu_solve(p, A, b)"
   ]
  },
  {
   "cell_type": "code",
   "execution_count": 158,
   "metadata": {
    "collapsed": false
   },
   "outputs": [
    {
     "data": {
      "text/plain": [
       "6.8392309596872014e-11"
      ]
     },
     "execution_count": 158,
     "metadata": {},
     "output_type": "execute_result"
    }
   ],
   "source": [
    "n = 1024\n",
    "A = np.random.rand(n, n)\n",
    "Ao = A.copy()\n",
    "p = lu_decomp(A)\n",
    "b = np.identity(n)\n",
    "X = lu_solve(p, A, b)\n",
    "np.linalg.norm(Ao.dot(X) - b, np.inf)"
   ]
  },
  {
   "cell_type": "code",
   "execution_count": 159,
   "metadata": {
    "collapsed": true
   },
   "outputs": [],
   "source": [
    "def cond_inf(A):\n",
    "    Ao = A.copy()\n",
    "    p = lu_decomp(A)\n",
    "    b = np.identity(A.shape[0])\n",
    "    X = lu_solve(p, A, b)\n",
    "    return np.linalg.norm(Ao, np.inf) * np.linalg.norm(X, np.inf)"
   ]
  },
  {
   "cell_type": "code",
   "execution_count": 160,
   "metadata": {
    "collapsed": false
   },
   "outputs": [
    {
     "data": {
      "text/plain": [
       "3.0"
      ]
     },
     "execution_count": 160,
     "metadata": {},
     "output_type": "execute_result"
    }
   ],
   "source": [
    "cond_inf(np.array([[0.5, 0.5], [0.5, -1.]]))"
   ]
  },
  {
   "cell_type": "code",
   "execution_count": 197,
   "metadata": {
    "collapsed": false
   },
   "outputs": [
    {
     "data": {
      "text/plain": [
       "[<matplotlib.lines.Line2D at 0x7f7f5b8b29e8>]"
      ]
     },
     "execution_count": 197,
     "metadata": {},
     "output_type": "execute_result"
    },
    {
     "data": {
      "image/png": "[encoded data removed]",
      "text/plain": [
       "<matplotlib.figure.Figure at 0x7f7f5bcf7fd0>"
      ]
     },
     "metadata": {},
     "output_type": "display_data"
    }
   ],
   "source": [
    "def vandermonde(f, n, a, b):\n",
    "    x = np.linspace(-1, 1, n)\n",
    "    v = np.zeros((n, n))\n",
    "    for i in range(n):\n",
    "        for j in range(n):\n",
    "            v[i, j] = f(j, x[i])\n",
    "             \n",
    "    return v\n",
    "\n",
    "n = np.arange(1, 53, 2)\n",
    "monom = lambda i, x: x**i\n",
    "tscheby = lambda i, x: np.cos(i * np.arccos(x))\n",
    "plt.semilogy(n - 1, list(map(lambda n: cond_inf(vandermonde(monom, n, -1, 1)), n)))\n",
    "plt.semilogy(n - 1, list(map(lambda n: cond_inf(vandermonde(tscheby, n, -1, 1)), n)))"
   ]
  },
  {
   "cell_type": "code",
   "execution_count": null,
   "metadata": {
    "collapsed": true
   },
   "outputs": [],
   "source": []
  }
 ],
 "metadata": {
  "kernelspec": {
   "display_name": "Python 3",
   "language": "python",
   "name": "python3"
  },
  "language_info": {
   "codemirror_mode": {
    "name": "ipython",
    "version": 3
   },
   "file_extension": ".py",
   "mimetype": "text/x-python",
   "name": "python",
   "nbconvert_exporter": "python",
   "pygments_lexer": "ipython3",
   "version": "3.6.1"
  }
 },
 "nbformat": 4,
 "nbformat_minor": 2
}
