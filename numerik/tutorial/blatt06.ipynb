{
 "cells": [
  {
   "cell_type": "code",
   "execution_count": 36,
   "metadata": {
    "collapsed": false
   },
   "outputs": [
    {
     "ename": "ModuleNotFoundError",
     "evalue": "No module named 'scipy'",
     "output_type": "error",
     "traceback": [
      "\u001b[0;31m---------------------------------------------------------------------------\u001b[0m",
      "\u001b[0;31mModuleNotFoundError\u001b[0m                       Traceback (most recent call last)",
      "\u001b[0;32m<ipython-input-36-fe6ada7bc548>\u001b[0m in \u001b[0;36m<module>\u001b[0;34m()\u001b[0m\n\u001b[1;32m      1\u001b[0m \u001b[0;32mimport\u001b[0m \u001b[0mnumpy\u001b[0m \u001b[0;32mas\u001b[0m \u001b[0mnp\u001b[0m\u001b[0;34m\u001b[0m\u001b[0m\n\u001b[0;32m----> 2\u001b[0;31m \u001b[0;32mimport\u001b[0m \u001b[0mscipy\u001b[0m\u001b[0;34m.\u001b[0m\u001b[0mlinalg\u001b[0m \u001b[0;32mas\u001b[0m \u001b[0mla\u001b[0m\u001b[0;34m\u001b[0m\u001b[0m\n\u001b[0m\u001b[1;32m      3\u001b[0m \u001b[0;32mfrom\u001b[0m \u001b[0mscipy\u001b[0m\u001b[0;34m.\u001b[0m\u001b[0mfftpack\u001b[0m \u001b[0;32mimport\u001b[0m \u001b[0mfft\u001b[0m\u001b[0;34m\u001b[0m\u001b[0m\n\u001b[1;32m      4\u001b[0m \u001b[0;32mimport\u001b[0m \u001b[0mmatplotlib\u001b[0m\u001b[0;34m.\u001b[0m\u001b[0mpyplot\u001b[0m \u001b[0;32mas\u001b[0m \u001b[0mplt\u001b[0m\u001b[0;34m\u001b[0m\u001b[0m\n\u001b[1;32m      5\u001b[0m \u001b[0mget_ipython\u001b[0m\u001b[0;34m(\u001b[0m\u001b[0;34m)\u001b[0m\u001b[0;34m.\u001b[0m\u001b[0mmagic\u001b[0m\u001b[0;34m(\u001b[0m\u001b[0;34m'matplotlib inline'\u001b[0m\u001b[0;34m)\u001b[0m\u001b[0;34m\u001b[0m\u001b[0m\n",
      "\u001b[0;31mModuleNotFoundError\u001b[0m: No module named 'scipy'"
     ]
    }
   ],
   "source": [
    "import numpy as np\n",
    "import scipy.linalg as la\n",
    "from scipy.fftpack import fft\n",
    "import matplotlib.pyplot as plt\n",
    "%matplotlib inline\n",
    "# try to load a local style sheet for matplotlib\n",
    "# see http://matplotlib.org/users/style_sheets.html\n",
    "try:\n",
    "    plt.style.use('presentation')\n",
    "except:\n",
    "    pass # do nothing if it cannot be found"
   ]
  },
  {
   "cell_type": "code",
   "execution_count": 42,
   "metadata": {
    "collapsed": false
   },
   "outputs": [],
   "source": [
    "def gauss(f, n):\n",
    "    k = np.arange(1.0, n + 1.0)\n",
    "    beta = 0.5 / np.sqrt(1 - (2*k)**(-2)) # 3-term recurrence coeffs\n",
    "    T = np.zeros((2,n+1)) # set up Jacobi matrix with 0 diagonal\n",
    "    T[1,:-1] = beta # and beta on secondary diagonals\n",
    "    E, V = la.eig_banded(T, lower=True) # compute eigenvalues and eigenvectors\n",
    "    perm = np.argsort(E) # sort eigenvalues\n",
    "    x = E[perm] # get nodes (= Legendre points)\n",
    "    w = 2 * V[0,perm]**2 # get quadrature weights\n",
    "    return w.dot(f(x))\n",
    "\n",
    "def clenshaw_curtis(f, n = 32, ofx = None):\n",
    "    if ofx:\n",
    "        assert(len(fx) == n / 2)\n",
    "        ofx = ofx / 2 # halve old fx's to account for doubled n\n",
    "        k = np.arange(1, n, 2) \n",
    "        nfx = np.cos(np.pi * k / n) # eval missing points\n",
    "        \n",
    "        # interleave them\n",
    "        fx = np.zeros(n + 1)\n",
    "        fx[0::2] = ofx\n",
    "        fx[1::2] = nfx \n",
    "    else:    \n",
    "        k = np.arange(n + 1.0)  \n",
    "        x = np.cos(np.pi * k / n) # Chebyshev points\n",
    "        fx = f(x) / (2*n) # evaluate integrand\n",
    "    g = fft(np.concatenate((fx, fx[-2:0:-1]))).real # fast Fourier transform\n",
    "    a = np.concatenate(([g[0]], g[1:n] + g[2*n-1:n:-1], [g[n]])) # Chebyshev coefficients\n",
    "    w = np.zeros(a.shape[0]) # set up weights\n",
    "    w[0::2] = 2.0 / (1-np.arange(0, n+1, 2)**2)\n",
    "    \n",
    "    if not abs(w[-16:]).dot(abs(a[-16:])) <= 1e-15 * abs(gauss(f, n)):\n",
    "        if not all(abs(a) <= 1e-15):\n",
    "            clenshaw_curtis(f, n * 2, fx)\n",
    "    else:\n",
    "        plt.figure(figsize=(10,8))\n",
    "        plt.semilogy(range(1, n), abs(a), 'ro-')\n",
    "        plt.semilogy(range(1, n), abs(w).dot(abs(a)), 'rb-')\n",
    "        plt.show()\n",
    "        return (w.dot(a), n)"
   ]
  },
  {
   "cell_type": "code",
   "execution_count": 44,
   "metadata": {
    "collapsed": false
   },
   "outputs": [
    {
     "ename": "NameError",
     "evalue": "name 'la' is not defined",
     "output_type": "error",
     "traceback": [
      "\u001b[0;31m---------------------------------------------------------------------------\u001b[0m",
      "\u001b[0;31mNameError\u001b[0m                                 Traceback (most recent call last)",
      "\u001b[0;32m<ipython-input-44-a6adf1815547>\u001b[0m in \u001b[0;36m<module>\u001b[0;34m()\u001b[0m\n\u001b[1;32m      6\u001b[0m \u001b[0mI_clencurt\u001b[0m \u001b[0;34m=\u001b[0m \u001b[0mnp\u001b[0m\u001b[0;34m.\u001b[0m\u001b[0mempty\u001b[0m\u001b[0;34m(\u001b[0m\u001b[0mN\u001b[0m\u001b[0;34m)\u001b[0m\u001b[0;34m\u001b[0m\u001b[0m\n\u001b[1;32m      7\u001b[0m \u001b[0;32mfor\u001b[0m \u001b[0mn\u001b[0m \u001b[0;32min\u001b[0m \u001b[0mlist_of_n\u001b[0m\u001b[0;34m:\u001b[0m\u001b[0;34m\u001b[0m\u001b[0m\n\u001b[0;32m----> 8\u001b[0;31m     \u001b[0mI_gauss\u001b[0m\u001b[0;34m[\u001b[0m\u001b[0mn\u001b[0m\u001b[0;34m]\u001b[0m \u001b[0;34m=\u001b[0m \u001b[0mgauss\u001b[0m\u001b[0;34m(\u001b[0m\u001b[0mf\u001b[0m\u001b[0;34m,\u001b[0m \u001b[0mn\u001b[0m\u001b[0;34m)\u001b[0m\u001b[0;34m\u001b[0m\u001b[0m\n\u001b[0m\u001b[1;32m      9\u001b[0m     \u001b[0mI_clencurt\u001b[0m\u001b[0;34m[\u001b[0m\u001b[0mn\u001b[0m\u001b[0;34m]\u001b[0m \u001b[0;34m=\u001b[0m \u001b[0mclenshaw_curtis\u001b[0m\u001b[0;34m(\u001b[0m\u001b[0mf\u001b[0m\u001b[0;34m,\u001b[0m \u001b[0mn\u001b[0m\u001b[0;34m)\u001b[0m\u001b[0;34m\u001b[0m\u001b[0m\n\u001b[1;32m     10\u001b[0m \u001b[0mI\u001b[0m \u001b[0;34m=\u001b[0m \u001b[0mgauss\u001b[0m\u001b[0;34m(\u001b[0m\u001b[0mf\u001b[0m\u001b[0;34m,\u001b[0m \u001b[0;36m2\u001b[0m\u001b[0;34m*\u001b[0m\u001b[0mN\u001b[0m\u001b[0;34m)\u001b[0m\u001b[0;34m\u001b[0m\u001b[0m\n",
      "\u001b[0;32m<ipython-input-42-b325bbdc6e2c>\u001b[0m in \u001b[0;36mgauss\u001b[0;34m(f, n)\u001b[0m\n\u001b[1;32m      4\u001b[0m     \u001b[0mT\u001b[0m \u001b[0;34m=\u001b[0m \u001b[0mnp\u001b[0m\u001b[0;34m.\u001b[0m\u001b[0mzeros\u001b[0m\u001b[0;34m(\u001b[0m\u001b[0;34m(\u001b[0m\u001b[0;36m2\u001b[0m\u001b[0;34m,\u001b[0m\u001b[0mn\u001b[0m\u001b[0;34m+\u001b[0m\u001b[0;36m1\u001b[0m\u001b[0;34m)\u001b[0m\u001b[0;34m)\u001b[0m \u001b[0;31m# set up Jacobi matrix with 0 diagonal\u001b[0m\u001b[0;34m\u001b[0m\u001b[0m\n\u001b[1;32m      5\u001b[0m     \u001b[0mT\u001b[0m\u001b[0;34m[\u001b[0m\u001b[0;36m1\u001b[0m\u001b[0;34m,\u001b[0m\u001b[0;34m:\u001b[0m\u001b[0;34m-\u001b[0m\u001b[0;36m1\u001b[0m\u001b[0;34m]\u001b[0m \u001b[0;34m=\u001b[0m \u001b[0mbeta\u001b[0m \u001b[0;31m# and beta on secondary diagonals\u001b[0m\u001b[0;34m\u001b[0m\u001b[0m\n\u001b[0;32m----> 6\u001b[0;31m     \u001b[0mE\u001b[0m\u001b[0;34m,\u001b[0m \u001b[0mV\u001b[0m \u001b[0;34m=\u001b[0m \u001b[0mla\u001b[0m\u001b[0;34m.\u001b[0m\u001b[0meig_banded\u001b[0m\u001b[0;34m(\u001b[0m\u001b[0mT\u001b[0m\u001b[0;34m,\u001b[0m \u001b[0mlower\u001b[0m\u001b[0;34m=\u001b[0m\u001b[0;32mTrue\u001b[0m\u001b[0;34m)\u001b[0m \u001b[0;31m# compute eigenvalues and eigenvectors\u001b[0m\u001b[0;34m\u001b[0m\u001b[0m\n\u001b[0m\u001b[1;32m      7\u001b[0m     \u001b[0mperm\u001b[0m \u001b[0;34m=\u001b[0m \u001b[0mnp\u001b[0m\u001b[0;34m.\u001b[0m\u001b[0margsort\u001b[0m\u001b[0;34m(\u001b[0m\u001b[0mE\u001b[0m\u001b[0;34m)\u001b[0m \u001b[0;31m# sort eigenvalues\u001b[0m\u001b[0;34m\u001b[0m\u001b[0m\n\u001b[1;32m      8\u001b[0m     \u001b[0mx\u001b[0m \u001b[0;34m=\u001b[0m \u001b[0mE\u001b[0m\u001b[0;34m[\u001b[0m\u001b[0mperm\u001b[0m\u001b[0;34m]\u001b[0m \u001b[0;31m# get nodes (= Legendre points)\u001b[0m\u001b[0;34m\u001b[0m\u001b[0m\n",
      "\u001b[0;31mNameError\u001b[0m: name 'la' is not defined"
     ]
    }
   ],
   "source": [
    "f = lambda x: (1+x) * x**20\n",
    "\n",
    "N = 26\n",
    "list_of_n = range(1, N)\n",
    "I_gauss = np.empty(N)\n",
    "I_clencurt = np.empty(N)\n",
    "for n in list_of_n:\n",
    "    I_gauss[n] = gauss(f, n)\n",
    "    I_clencurt[n] = clenshaw_curtis(f, n)\n",
    "I = gauss(f, 2*N)\n",
    "\n",
    "plt.figure(figsize=(10,8))\n",
    "err_gauss = np.maximum(1e-16, abs(I_gauss[list_of_n] - I))\n",
    "err_clencurt = np.maximum(1e-16, abs(I_clencurt[list_of_n] - I))\n",
    "plt.semilogy(list_of_n, err_gauss, 'ro-')\n",
    "plt.semilogy(list_of_n, err_clencurt, 'bd-')\n",
    "plt.xlabel('$n$')\n",
    "plt.ylabel('Quadraturfehler')\n",
    "plt.legend(('Gauss', 'Clenshaw-Curtis'))\n",
    "plt.show()"
   ]
  },
  {
   "cell_type": "code",
   "execution_count": null,
   "metadata": {
    "collapsed": true
   },
   "outputs": [],
   "source": []
  }
 ],
 "metadata": {
  "kernelspec": {
   "display_name": "Python 3",
   "language": "python",
   "name": "python3"
  },
  "language_info": {
   "codemirror_mode": {
    "name": "ipython",
    "version": 3
   },
   "file_extension": ".py",
   "mimetype": "text/x-python",
   "name": "python",
   "nbconvert_exporter": "python",
   "pygments_lexer": "ipython3",
   "version": "3.6.1"
  }
 },
 "nbformat": 4,
 "nbformat_minor": 2
}
